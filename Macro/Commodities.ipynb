{
 "cells": [
  {
   "cell_type": "code",
   "execution_count": 1,
   "outputs": [],
   "source": [
    "#Adding imports and needed functions\n",
    "import pandas as pd, numpy as np, yfinance as yf, matplotlib.pyplot as plt\n",
    "from scipy import stats\n",
    "from pandas.tseries.offsets import BMonthEnd, BusinessDay\n",
    "from datetime import date\n",
    "from Initialize import Initialize\n",
    "import tabulate\n",
    "\n",
    "def vola_calc(ts):\n",
    "    vola_window = 20\n",
    "    return ts.pct_change().rolling(vola_window).std().dropna().iloc[-1]"
   ],
   "metadata": {
    "collapsed": false
   }
  },
  {
   "cell_type": "code",
   "execution_count": 2,
   "outputs": [
    {
     "data": {
      "text/plain": "['NIB',\n 'JO',\n 'CORN',\n 'GRU',\n 'WEAT',\n 'COW',\n 'CANE',\n 'SOYB',\n 'CUT',\n 'WOOD',\n 'CGW',\n 'FIW',\n 'PHO',\n 'DBP',\n 'GLTR',\n 'XME',\n 'GLD',\n 'GDX',\n 'SLV',\n 'PPLT',\n 'PLTM',\n 'PALL',\n 'REMX',\n 'CHIM',\n 'UYM',\n 'URA']"
     },
     "execution_count": 2,
     "metadata": {},
     "output_type": "execute_result"
    }
   ],
   "source": [
    "#Setting the Universe to Commodity ETFs\n",
    "universe = pd.read_excel(\"Comm_Universe.xlsx\", engine='openpyxl')\n",
    "tickers_list = universe[\"Symbol\"].values.tolist()\n",
    "tickers_list"
   ],
   "metadata": {
    "collapsed": false
   }
  },
  {
   "cell_type": "code",
   "execution_count": 3,
   "outputs": [
    {
     "name": "stdout",
     "output_type": "stream",
     "text": [
      "Name:  Commodities \n",
      "Alpha Factor:  Momentum \n",
      "Universe:  ['NIB', 'JO', 'CORN', 'GRU', 'WEAT', 'COW', 'CANE', 'SOYB', 'CUT', 'WOOD', 'CGW', 'FIW', 'PHO', 'DBP', 'GLTR', 'XME', 'GLD', 'GDX', 'SLV', 'PPLT', 'PLTM', 'PALL', 'REMX', 'CHIM', 'UYM', 'URA']\n",
      "[*********************100%***********************]  26 of 26 completed\n"
     ]
    }
   ],
   "source": [
    "#Initializing the universe & factor we are researching via Objects\n",
    "comm_research = Initialize('Commodities', 'Momentum', tickers_list)\n",
    "\n",
    "Initialize.displaySelection(comm_research)\n",
    "\n",
    "total_hist = yf.download(tickers=comm_research.universe, period=\"1y\",\n",
    "                         interval=\"1d\", group_by='ticker',\n",
    "                         auto_adjust=True, prepost=True,\n",
    "                         threads=True, proxy=None)"
   ],
   "metadata": {
    "collapsed": false
   }
  },
  {
   "cell_type": "code",
   "execution_count": 4,
   "outputs": [
    {
     "data": {
      "text/plain": "      MTD Return %  YTD Return %\nSOYB     -0.001081      0.218462\nCORN     -0.015515      0.207525\nXME      -0.075190      0.124863\nGRU      -0.007505      0.118393\nCOW       0.004855      0.054811\nCANE      0.004224      0.033696\nWEAT     -0.052239      0.031123\nPPLT     -0.036523      0.027030\nPLTM     -0.038614      0.024910\nSLV       0.045037     -0.007434\nGLD       0.012954     -0.023485\nGLTR      0.005838     -0.027334\nDBP       0.017669     -0.036319\nNIB      -0.018505     -0.087405\nPALL     -0.086272     -0.094000\nGDX      -0.010740     -0.102779\nURA      -0.095626     -0.143812\nPHO      -0.038325     -0.154508\nFIW      -0.050449     -0.159939\nCUT      -0.036865     -0.161995\nWOOD     -0.034129     -0.188049\nCGW      -0.031008     -0.216559\nUYM      -0.106010     -0.228933\nJO       -0.031828     -0.229337\nREMX     -0.123612     -0.261253\nCHIM           NaN           NaN",
      "text/html": "<div>\n<style scoped>\n    .dataframe tbody tr th:only-of-type {\n        vertical-align: middle;\n    }\n\n    .dataframe tbody tr th {\n        vertical-align: top;\n    }\n\n    .dataframe thead th {\n        text-align: right;\n    }\n</style>\n<table border=\"1\" class=\"dataframe\">\n  <thead>\n    <tr style=\"text-align: right;\">\n      <th></th>\n      <th>MTD Return %</th>\n      <th>YTD Return %</th>\n    </tr>\n  </thead>\n  <tbody>\n    <tr>\n      <th>SOYB</th>\n      <td>-0.001081</td>\n      <td>0.218462</td>\n    </tr>\n    <tr>\n      <th>CORN</th>\n      <td>-0.015515</td>\n      <td>0.207525</td>\n    </tr>\n    <tr>\n      <th>XME</th>\n      <td>-0.075190</td>\n      <td>0.124863</td>\n    </tr>\n    <tr>\n      <th>GRU</th>\n      <td>-0.007505</td>\n      <td>0.118393</td>\n    </tr>\n    <tr>\n      <th>COW</th>\n      <td>0.004855</td>\n      <td>0.054811</td>\n    </tr>\n    <tr>\n      <th>CANE</th>\n      <td>0.004224</td>\n      <td>0.033696</td>\n    </tr>\n    <tr>\n      <th>WEAT</th>\n      <td>-0.052239</td>\n      <td>0.031123</td>\n    </tr>\n    <tr>\n      <th>PPLT</th>\n      <td>-0.036523</td>\n      <td>0.027030</td>\n    </tr>\n    <tr>\n      <th>PLTM</th>\n      <td>-0.038614</td>\n      <td>0.024910</td>\n    </tr>\n    <tr>\n      <th>SLV</th>\n      <td>0.045037</td>\n      <td>-0.007434</td>\n    </tr>\n    <tr>\n      <th>GLD</th>\n      <td>0.012954</td>\n      <td>-0.023485</td>\n    </tr>\n    <tr>\n      <th>GLTR</th>\n      <td>0.005838</td>\n      <td>-0.027334</td>\n    </tr>\n    <tr>\n      <th>DBP</th>\n      <td>0.017669</td>\n      <td>-0.036319</td>\n    </tr>\n    <tr>\n      <th>NIB</th>\n      <td>-0.018505</td>\n      <td>-0.087405</td>\n    </tr>\n    <tr>\n      <th>PALL</th>\n      <td>-0.086272</td>\n      <td>-0.094000</td>\n    </tr>\n    <tr>\n      <th>GDX</th>\n      <td>-0.010740</td>\n      <td>-0.102779</td>\n    </tr>\n    <tr>\n      <th>URA</th>\n      <td>-0.095626</td>\n      <td>-0.143812</td>\n    </tr>\n    <tr>\n      <th>PHO</th>\n      <td>-0.038325</td>\n      <td>-0.154508</td>\n    </tr>\n    <tr>\n      <th>FIW</th>\n      <td>-0.050449</td>\n      <td>-0.159939</td>\n    </tr>\n    <tr>\n      <th>CUT</th>\n      <td>-0.036865</td>\n      <td>-0.161995</td>\n    </tr>\n    <tr>\n      <th>WOOD</th>\n      <td>-0.034129</td>\n      <td>-0.188049</td>\n    </tr>\n    <tr>\n      <th>CGW</th>\n      <td>-0.031008</td>\n      <td>-0.216559</td>\n    </tr>\n    <tr>\n      <th>UYM</th>\n      <td>-0.106010</td>\n      <td>-0.228933</td>\n    </tr>\n    <tr>\n      <th>JO</th>\n      <td>-0.031828</td>\n      <td>-0.229337</td>\n    </tr>\n    <tr>\n      <th>REMX</th>\n      <td>-0.123612</td>\n      <td>-0.261253</td>\n    </tr>\n    <tr>\n      <th>CHIM</th>\n      <td>NaN</td>\n      <td>NaN</td>\n    </tr>\n  </tbody>\n</table>\n</div>"
     },
     "execution_count": 4,
     "metadata": {},
     "output_type": "execute_result"
    }
   ],
   "source": [
    "#Getting returns MTD & YTD\n",
    "d=date.today()\n",
    "idx = pd.IndexSlice\n",
    "year_start = total_hist.loc['2021-12-31',idx[:,'Close']]\n",
    "\n",
    "offset = BusinessDay(n=0)\n",
    "curr_bd = (d - offset).strftime('%Y-%m-%d')\n",
    "current = total_hist.loc[curr_bd,idx[:,'Close']]\n",
    "\n",
    "ytd_df = pd.merge(year_start,current, right_index = True, left_index = True)\n",
    "ytd_df['YTD Return %'] = (ytd_df[curr_bd]- ytd_df['2021-12-31']) / ytd_df['2021-12-31']\n",
    "\n",
    "offset = BMonthEnd()\n",
    "\n",
    "prev_mtd = offset.rollback(d).strftime('%Y-%m-%d')\n",
    "prev_mtd_srs = total_hist.loc[prev_mtd,idx[:,'Close']]\n",
    "\n",
    "mtd_df = pd.merge(prev_mtd_srs,current, right_index = True, left_index = True)\n",
    "mtd_df['MTD Return %'] = (mtd_df[curr_bd]- mtd_df[prev_mtd]) / mtd_df[prev_mtd]\n",
    "\n",
    "returns_df = pd.DataFrame(index=mtd_df.index)\n",
    "\n",
    "returns_df['MTD Return %'],returns_df['YTD Return %'] = mtd_df['MTD Return %'],ytd_df['YTD Return %']\n",
    "\n",
    "returns_df = returns_df.droplevel(level=1).sort_values(by = 'YTD Return %', ascending = False)\n",
    "\n",
    "returns_df"
   ],
   "metadata": {
    "collapsed": false
   }
  },
  {
   "cell_type": "code",
   "execution_count": 5,
   "outputs": [
    {
     "data": {
      "text/plain": "        1-Month    3-Months   6-Months  Avg Alpha-Factor  1-Month Corr  \\\nUYM    0.020557  259.468131   3.688865         87.725851      0.368107   \nSLV   93.957322   53.965049   5.986299         51.302890      0.332946   \nGDX   16.227832   89.371275   0.012406         35.203838      0.441126   \nXME    0.102175   66.561061  11.420085         26.027774      0.349686   \nPLTM   4.035774   48.749219  16.610986         23.131993      0.440326   \nPPLT   3.575509   48.173768  16.517096         22.755458      0.437745   \nCGW    0.379240   66.844230   0.092414         22.438628      0.415801   \nCUT    3.391611   54.256660  -0.453697         19.064858      0.490741   \nWOOD   0.124290   50.348829  -0.732142         16.580326      0.416261   \nPHO    0.651366   44.944621   1.991561         15.862516      0.475599   \nFIW    0.005852   40.839209   3.222035         14.689032      0.417135   \nCHIM  40.119003   22.034531 -19.419794         14.244580      0.253669   \nNIB    7.754753   28.000760   2.215395         12.656969      0.318942   \nDBP   15.780167   21.015885  -0.003495         12.264186      0.372655   \nGLTR  18.355293   12.693435   0.020376         10.356368      0.386807   \nGLD    8.345875   15.465220  -0.335217          7.825293      0.390311   \nSOYB   4.244580    8.653255   4.228619          5.708818      0.055639   \nCANE  -0.003046   12.752117   0.287538          4.345536      0.045761   \nREMX  -0.001925   12.068824   0.021432          4.029444      0.277263   \nCOW   -1.323938    7.389970   4.229958          3.431997      0.020276   \nCORN  -3.121204   -5.978093   6.334919         -0.921459     -0.177342   \nURA   -3.290323    0.175780   0.200008         -0.971512      0.156708   \nGRU   -0.923713   -8.811382   0.792276         -2.980940     -0.098426   \nPALL   0.660731  -12.528090  -0.491025         -4.119461      0.299025   \nWEAT -10.112288  -21.636682  -1.216543        -10.988505     -0.147569   \nJO     0.392977  -30.449188 -25.499425        -18.518545      0.120369   \n\n      3-Months Corr  6-Months Corr  1-Month Vol  \nUYM        0.534436       0.469397     0.029451  \nSLV        0.512219       0.372916     0.021311  \nGDX        0.536732       0.357514     0.024761  \nXME        0.523365       0.428683     0.021994  \nPLTM       0.534892       0.358616     0.017002  \nPPLT       0.535273       0.357506     0.017269  \nCGW        0.514223       0.413782     0.013243  \nCUT        0.524694       0.359671     0.010964  \nWOOD       0.525963       0.339923     0.011927  \nPHO        0.521419       0.407465     0.013707  \nFIW        0.516023       0.398108     0.013990  \nCHIM       0.435460       0.109832     0.013903  \nNIB        0.507071       0.361429     0.014112  \nDBP        0.524598       0.394265     0.011544  \nGLTR       0.504088       0.428553     0.014216  \nGLD        0.521650       0.359819     0.009741  \nSOYB       0.386850       0.292132     0.009323  \nCANE       0.450532       0.198078     0.010421  \nREMX       0.449533       0.351020     0.027266  \nCOW        0.279167       0.207771     0.008701  \nCORN      -0.465040      -0.041150     0.006429  \nURA        0.277950       0.188649     0.023597  \nGRU       -0.454417      -0.099912     0.008753  \nPALL      -0.276067      -0.033464     0.027621  \nWEAT      -0.467606      -0.250512     0.014266  \nJO        -0.489254      -0.208450     0.022494  ",
      "text/html": "<div>\n<style scoped>\n    .dataframe tbody tr th:only-of-type {\n        vertical-align: middle;\n    }\n\n    .dataframe tbody tr th {\n        vertical-align: top;\n    }\n\n    .dataframe thead th {\n        text-align: right;\n    }\n</style>\n<table border=\"1\" class=\"dataframe\">\n  <thead>\n    <tr style=\"text-align: right;\">\n      <th></th>\n      <th>1-Month</th>\n      <th>3-Months</th>\n      <th>6-Months</th>\n      <th>Avg Alpha-Factor</th>\n      <th>1-Month Corr</th>\n      <th>3-Months Corr</th>\n      <th>6-Months Corr</th>\n      <th>1-Month Vol</th>\n    </tr>\n  </thead>\n  <tbody>\n    <tr>\n      <th>UYM</th>\n      <td>0.020557</td>\n      <td>259.468131</td>\n      <td>3.688865</td>\n      <td>87.725851</td>\n      <td>0.368107</td>\n      <td>0.534436</td>\n      <td>0.469397</td>\n      <td>0.029451</td>\n    </tr>\n    <tr>\n      <th>SLV</th>\n      <td>93.957322</td>\n      <td>53.965049</td>\n      <td>5.986299</td>\n      <td>51.302890</td>\n      <td>0.332946</td>\n      <td>0.512219</td>\n      <td>0.372916</td>\n      <td>0.021311</td>\n    </tr>\n    <tr>\n      <th>GDX</th>\n      <td>16.227832</td>\n      <td>89.371275</td>\n      <td>0.012406</td>\n      <td>35.203838</td>\n      <td>0.441126</td>\n      <td>0.536732</td>\n      <td>0.357514</td>\n      <td>0.024761</td>\n    </tr>\n    <tr>\n      <th>XME</th>\n      <td>0.102175</td>\n      <td>66.561061</td>\n      <td>11.420085</td>\n      <td>26.027774</td>\n      <td>0.349686</td>\n      <td>0.523365</td>\n      <td>0.428683</td>\n      <td>0.021994</td>\n    </tr>\n    <tr>\n      <th>PLTM</th>\n      <td>4.035774</td>\n      <td>48.749219</td>\n      <td>16.610986</td>\n      <td>23.131993</td>\n      <td>0.440326</td>\n      <td>0.534892</td>\n      <td>0.358616</td>\n      <td>0.017002</td>\n    </tr>\n    <tr>\n      <th>PPLT</th>\n      <td>3.575509</td>\n      <td>48.173768</td>\n      <td>16.517096</td>\n      <td>22.755458</td>\n      <td>0.437745</td>\n      <td>0.535273</td>\n      <td>0.357506</td>\n      <td>0.017269</td>\n    </tr>\n    <tr>\n      <th>CGW</th>\n      <td>0.379240</td>\n      <td>66.844230</td>\n      <td>0.092414</td>\n      <td>22.438628</td>\n      <td>0.415801</td>\n      <td>0.514223</td>\n      <td>0.413782</td>\n      <td>0.013243</td>\n    </tr>\n    <tr>\n      <th>CUT</th>\n      <td>3.391611</td>\n      <td>54.256660</td>\n      <td>-0.453697</td>\n      <td>19.064858</td>\n      <td>0.490741</td>\n      <td>0.524694</td>\n      <td>0.359671</td>\n      <td>0.010964</td>\n    </tr>\n    <tr>\n      <th>WOOD</th>\n      <td>0.124290</td>\n      <td>50.348829</td>\n      <td>-0.732142</td>\n      <td>16.580326</td>\n      <td>0.416261</td>\n      <td>0.525963</td>\n      <td>0.339923</td>\n      <td>0.011927</td>\n    </tr>\n    <tr>\n      <th>PHO</th>\n      <td>0.651366</td>\n      <td>44.944621</td>\n      <td>1.991561</td>\n      <td>15.862516</td>\n      <td>0.475599</td>\n      <td>0.521419</td>\n      <td>0.407465</td>\n      <td>0.013707</td>\n    </tr>\n    <tr>\n      <th>FIW</th>\n      <td>0.005852</td>\n      <td>40.839209</td>\n      <td>3.222035</td>\n      <td>14.689032</td>\n      <td>0.417135</td>\n      <td>0.516023</td>\n      <td>0.398108</td>\n      <td>0.013990</td>\n    </tr>\n    <tr>\n      <th>CHIM</th>\n      <td>40.119003</td>\n      <td>22.034531</td>\n      <td>-19.419794</td>\n      <td>14.244580</td>\n      <td>0.253669</td>\n      <td>0.435460</td>\n      <td>0.109832</td>\n      <td>0.013903</td>\n    </tr>\n    <tr>\n      <th>NIB</th>\n      <td>7.754753</td>\n      <td>28.000760</td>\n      <td>2.215395</td>\n      <td>12.656969</td>\n      <td>0.318942</td>\n      <td>0.507071</td>\n      <td>0.361429</td>\n      <td>0.014112</td>\n    </tr>\n    <tr>\n      <th>DBP</th>\n      <td>15.780167</td>\n      <td>21.015885</td>\n      <td>-0.003495</td>\n      <td>12.264186</td>\n      <td>0.372655</td>\n      <td>0.524598</td>\n      <td>0.394265</td>\n      <td>0.011544</td>\n    </tr>\n    <tr>\n      <th>GLTR</th>\n      <td>18.355293</td>\n      <td>12.693435</td>\n      <td>0.020376</td>\n      <td>10.356368</td>\n      <td>0.386807</td>\n      <td>0.504088</td>\n      <td>0.428553</td>\n      <td>0.014216</td>\n    </tr>\n    <tr>\n      <th>GLD</th>\n      <td>8.345875</td>\n      <td>15.465220</td>\n      <td>-0.335217</td>\n      <td>7.825293</td>\n      <td>0.390311</td>\n      <td>0.521650</td>\n      <td>0.359819</td>\n      <td>0.009741</td>\n    </tr>\n    <tr>\n      <th>SOYB</th>\n      <td>4.244580</td>\n      <td>8.653255</td>\n      <td>4.228619</td>\n      <td>5.708818</td>\n      <td>0.055639</td>\n      <td>0.386850</td>\n      <td>0.292132</td>\n      <td>0.009323</td>\n    </tr>\n    <tr>\n      <th>CANE</th>\n      <td>-0.003046</td>\n      <td>12.752117</td>\n      <td>0.287538</td>\n      <td>4.345536</td>\n      <td>0.045761</td>\n      <td>0.450532</td>\n      <td>0.198078</td>\n      <td>0.010421</td>\n    </tr>\n    <tr>\n      <th>REMX</th>\n      <td>-0.001925</td>\n      <td>12.068824</td>\n      <td>0.021432</td>\n      <td>4.029444</td>\n      <td>0.277263</td>\n      <td>0.449533</td>\n      <td>0.351020</td>\n      <td>0.027266</td>\n    </tr>\n    <tr>\n      <th>COW</th>\n      <td>-1.323938</td>\n      <td>7.389970</td>\n      <td>4.229958</td>\n      <td>3.431997</td>\n      <td>0.020276</td>\n      <td>0.279167</td>\n      <td>0.207771</td>\n      <td>0.008701</td>\n    </tr>\n    <tr>\n      <th>CORN</th>\n      <td>-3.121204</td>\n      <td>-5.978093</td>\n      <td>6.334919</td>\n      <td>-0.921459</td>\n      <td>-0.177342</td>\n      <td>-0.465040</td>\n      <td>-0.041150</td>\n      <td>0.006429</td>\n    </tr>\n    <tr>\n      <th>URA</th>\n      <td>-3.290323</td>\n      <td>0.175780</td>\n      <td>0.200008</td>\n      <td>-0.971512</td>\n      <td>0.156708</td>\n      <td>0.277950</td>\n      <td>0.188649</td>\n      <td>0.023597</td>\n    </tr>\n    <tr>\n      <th>GRU</th>\n      <td>-0.923713</td>\n      <td>-8.811382</td>\n      <td>0.792276</td>\n      <td>-2.980940</td>\n      <td>-0.098426</td>\n      <td>-0.454417</td>\n      <td>-0.099912</td>\n      <td>0.008753</td>\n    </tr>\n    <tr>\n      <th>PALL</th>\n      <td>0.660731</td>\n      <td>-12.528090</td>\n      <td>-0.491025</td>\n      <td>-4.119461</td>\n      <td>0.299025</td>\n      <td>-0.276067</td>\n      <td>-0.033464</td>\n      <td>0.027621</td>\n    </tr>\n    <tr>\n      <th>WEAT</th>\n      <td>-10.112288</td>\n      <td>-21.636682</td>\n      <td>-1.216543</td>\n      <td>-10.988505</td>\n      <td>-0.147569</td>\n      <td>-0.467606</td>\n      <td>-0.250512</td>\n      <td>0.014266</td>\n    </tr>\n    <tr>\n      <th>JO</th>\n      <td>0.392977</td>\n      <td>-30.449188</td>\n      <td>-25.499425</td>\n      <td>-18.518545</td>\n      <td>0.120369</td>\n      <td>-0.489254</td>\n      <td>-0.208450</td>\n      <td>0.022494</td>\n    </tr>\n  </tbody>\n</table>\n</div>"
     },
     "execution_count": 5,
     "metadata": {},
     "output_type": "execute_result"
    }
   ],
   "source": [
    "#Generating a table to display 1,3,6 Month Alpha Factor Research\n",
    "dict_cols = {20: '1-Month',\n",
    "             60: '3-Months',\n",
    "             125: '6-Months',\n",
    "             '20-corr': '1-Month Corr',\n",
    "             '60-corr': '3-Months Corr',\n",
    "             '125-corr': '6-Months Corr'}\n",
    "\n",
    "time_list = [20, 60, 125]\n",
    "r2_table = pd.DataFrame(columns=time_list, index=tickers_list).sort_index()\n",
    "\n",
    "for time in time_list:\n",
    "    ranking_t, hist_for_corr = Initialize.returnAlpha(comm_research, time, total_hist)\n",
    "\n",
    "    r2_ranks = pd.DataFrame(ranking_t).sort_index()\n",
    "    r2_table[time] = r2_ranks[0] / (125 / time)\n",
    "\n",
    "    r2_table[str(time) + '-corr'] = np.nan\n",
    "\n",
    "    for tick in tickers_list:\n",
    "        r2_table.loc[tick, str(time) + '-corr'] = hist_for_corr.corr()[tick].drop(tick).mean()\n",
    "\n",
    "r2_table.insert(3, 'Avg Alpha-Factor', r2_table[time_list].mean(axis=1))\n",
    "r2_table = r2_table.rename(columns=dict_cols)\n",
    "r2_table = r2_table.sort_values(by='Avg Alpha-Factor', ascending=False)\n",
    "\n",
    "vola_table = hist_for_corr.apply(vola_calc)\n",
    "\n",
    "r2_table['1-Month Vol'] = vola_table\n",
    "r2_table.to_csv(\"r2_table_Comm.csv\")\n",
    "\n",
    "pd.set_option('display.max_columns', 1000000)\n",
    "pd.set_option('display.max_rows', 1000000)\n",
    "\n",
    "plt.rcParams.update({'figure.max_open_warning': 0})\n",
    "r2_table"
   ],
   "metadata": {
    "collapsed": false
   }
  }
 ],
 "metadata": {
  "kernelspec": {
   "display_name": "Python 3",
   "language": "python",
   "name": "python3"
  },
  "language_info": {
   "codemirror_mode": {
    "name": "ipython",
    "version": 2
   },
   "file_extension": ".py",
   "mimetype": "text/x-python",
   "name": "python",
   "nbconvert_exporter": "python",
   "pygments_lexer": "ipython2",
   "version": "2.7.6"
  }
 },
 "nbformat": 4,
 "nbformat_minor": 0
}
