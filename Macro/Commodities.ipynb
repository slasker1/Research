{
 "cells": [
  {
   "cell_type": "code",
   "execution_count": 2,
   "metadata": {
    "collapsed": true
   },
   "outputs": [],
   "source": [
    "import seaborn as sns, pandas as pd, numpy as np, yfinance as yf, matplotlib.pyplot as plt\n",
    "from scipy import stats\n",
    "from pandas.tseries.offsets import BMonthEnd, BusinessDay\n",
    "from datetime import date\n",
    "\n",
    "#calculate R^2\n",
    "def slope(ts):\n",
    "    x = np.arange(len(ts))\n",
    "    log_ts = np.log(ts)\n",
    "    slope, intercept, r_value, p_value, std_err = stats.linregress(x, log_ts)\n",
    "    annualized_slope = (np.power(np.exp(slope), 252) - 1) * 100\n",
    "    score = annualized_slope * (r_value ** 2)\n",
    "    return score\n",
    "\n",
    "#Inverse Volatility Weight portfolio consturction\n",
    "def inv_vola_calc(ts):\n",
    "    vola_window = 20\n",
    "    return ts.pct_change().rolling(vola_window).std().dropna().iloc[-1]\n",
    "\n",
    "#Setting Params for Momentum\n",
    "def get_params():\n",
    "    minimum_momentum = 0  # momentum score cap\n",
    "    number_of_stocks = 27\n",
    "    exclude_days = 0\n",
    "    return minimum_momentum, number_of_stocks, exclude_days\n",
    "def build_mom_list(momentum_window, tickers_list, total_hist):\n",
    "    minimum_momentum, number_of_stocks, exclude_days = get_params()\n",
    "\n",
    "    hist = pd.DataFrame(columns=tickers_list)\n",
    "\n",
    "    hist_window = momentum_window + exclude_days\n",
    "    for ticker in tickers_list:\n",
    "        ticker = str(ticker)\n",
    "        hist[ticker] = total_hist[ticker][\"Close\"].tail(hist_window)\n",
    "        # volume[ticker] = total_hist[ticker][\"Volume\"].tail(200+2)[:-2]\n",
    "\n",
    "    data_end = -1 * (exclude_days + 1)  # exclude most recent data\n",
    "\n",
    "    hist = hist.dropna()\n",
    "\n",
    "    momentum1_start = -1 * (momentum_window + exclude_days)\n",
    "    momentum_hist1 = hist[momentum1_start:data_end]\n",
    "\n",
    "    momentum_list = momentum_hist1.apply(slope)  # Mom Window 1\n",
    "\n",
    "    ranking_table = momentum_list.sort_values(ascending=False)\n",
    "\n",
    "    ranking_table.to_csv(\"sector_ranking_table.csv\")\n",
    "    return ranking_table, hist\n",
    "def analyze(total_hist):\n",
    "    d=date.today()\n",
    "    idx = pd.IndexSlice\n",
    "    year_start = total_hist.loc['2021-12-31',idx[:,'Close']]\n",
    "\n",
    "    offset = BusinessDay(n=0)\n",
    "    curr_bd = (d - offset).strftime('%Y-%m-%d')\n",
    "    current = total_hist.loc[curr_bd,idx[:,'Close']]\n",
    "\n",
    "    ytd_df = pd.merge(year_start,current, right_index = True, left_index = True)\n",
    "    ytd_df['YTD Return %'] = (ytd_df[curr_bd]- ytd_df['2021-12-31']) / ytd_df['2021-12-31']\n",
    "\n",
    "    offset = BMonthEnd()\n",
    "\n",
    "    prev_mtd = offset.rollback(d).strftime('%Y-%m-%d')\n",
    "    prev_mtd_srs = total_hist.loc[prev_mtd,idx[:,'Close']]\n",
    "\n",
    "    mtd_df = pd.merge(prev_mtd_srs,current, right_index = True, left_index = True)\n",
    "    mtd_df['MTD Return %'] = (mtd_df[curr_bd]- mtd_df[prev_mtd]) / mtd_df[prev_mtd]\n",
    "\n",
    "    returns_df = pd.DataFrame(index=mtd_df.index)\n",
    "\n",
    "    returns_df['MTD Return %'],returns_df['YTD Return %'] = mtd_df['MTD Return %'],ytd_df['YTD Return %']\n",
    "\n",
    "    returns_df = returns_df.droplevel(level=1).sort_values(by = 'YTD Return %', ascending = False)\n",
    "\n",
    "    returns_df.to_csv(\"returns_df_Comm.csv\")\n",
    "\n",
    "    dict_cols = {20: '1-Month',\n",
    "                 60: '3-Months',\n",
    "                 125: '6-Months',\n",
    "                 '20-corr': '1-Month Corr',\n",
    "                 '60-corr': '3-Months Corr',\n",
    "                 '125-corr': '6-Months Corr'}\n",
    "\n",
    "    time_list = [20, 60, 125]\n",
    "    r2_table = pd.DataFrame(columns=time_list, index=tickers_list).sort_index()\n",
    "\n",
    "    for time in time_list:\n",
    "        ranking_t, hist_for_corr = build_mom_list(time, tickers_list, total_hist)\n",
    "\n",
    "        r2_ranks = pd.DataFrame(ranking_t).sort_index()\n",
    "        r2_table[time] = r2_ranks[0] / (125 / time)\n",
    "\n",
    "        r2_table[str(time) + '-corr'] = np.nan\n",
    "\n",
    "        for tick in tickers_list:\n",
    "            r2_table.loc[tick, str(time) + '-corr'] = hist_for_corr.corr()[tick].drop(tick).mean()\n",
    "\n",
    "    r2_table.insert(3, 'Avg Alpha-Factor', r2_table[time_list].mean(axis=1))\n",
    "    r2_table = r2_table.rename(columns=dict_cols)\n",
    "    r2_table = r2_table.sort_values(by='Avg Alpha-Factor', ascending=False)\n",
    "\n",
    "    vola_table = hist_for_corr.apply(inv_vola_calc)\n",
    "\n",
    "    r2_table['1-Month Vol'] = vola_table\n",
    "    r2_table.to_csv(\"r2_table_Comm.csv\")\n",
    "\n",
    "    pd.set_option('display.max_columns', 1000000)\n",
    "    pd.set_option('display.max_rows', 1000000)\n",
    "\n",
    "    plt.rcParams.update({'figure.max_open_warning': 0})\n",
    "\n",
    "    return r2_table"
   ]
  },
  {
   "cell_type": "code",
   "execution_count": 3,
   "outputs": [
    {
     "name": "stdout",
     "output_type": "stream",
     "text": [
      "[*********************100%***********************]  26 of 26 completed\n"
     ]
    }
   ],
   "source": [
    "dfSectors = pd.read_excel(\"Comm_Universe.xlsx\", engine='openpyxl')\n",
    "tickers_list = dfSectors[\"Symbol\"].values.tolist()\n",
    "total_hist = yf.download(tickers=tickers_list, period=\"1y\",\n",
    "                        interval=\"1d\", group_by='ticker',\n",
    "                        auto_adjust=True, prepost=True,\n",
    "                        threads=True, proxy=None)\n",
    "\n",
    "r2_table = analyze(total_hist)"
   ],
   "metadata": {
    "collapsed": false
   }
  },
  {
   "cell_type": "code",
   "execution_count": 4,
   "outputs": [
    {
     "data": {
      "text/plain": "        1-Month    3-Months   6-Months  Avg Alpha-Factor  1-Month Corr  \\\nUYM    0.333237  249.365341   3.439886         84.379488      0.372827   \nSLV   86.918243   50.576832   4.991841         47.495639      0.341084   \nGDX   20.425402   85.910804   0.001426         35.445877      0.428721   \nXME    0.466031   66.368142  10.983776         25.939316      0.353447   \nPLTM   4.755738   47.138369  15.373490         22.422532      0.441295   \nPPLT   4.356015   46.529299  15.282230         22.055848      0.440228   \nCGW    1.152470   63.128903   0.127545         21.469639      0.404506   \nCUT    4.265289   51.659052  -0.452384         18.490652      0.476336   \nWOOD   0.253095   48.306254  -0.746587         15.937587      0.403617   \nPHO    1.421883   43.234501   2.352112         15.669499      0.460393   \nFIW    0.150143   39.591603   3.691987         14.477911      0.410793   \nNIB    8.014758   27.659456   1.791195         12.488470      0.333027   \nDBP   13.756009   19.945232  -0.011167         11.230025      0.371249   \nCHIM  33.643501   17.724361 -19.791351         10.525504      0.240816   \nGLTR  14.868381   11.804163   0.009293          8.893946      0.378840   \nGLD    6.731156   14.732172  -0.419629          7.014567      0.377192   \nSOYB   5.237012    6.993672   3.423657          5.218114      0.100236   \nCANE  -0.000360   12.226628   0.207190          4.144486      0.045435   \nREMX  -0.000254    9.501265   0.025070          3.175361      0.254755   \nCOW   -1.522518    6.776979   4.217545          3.157335     -0.032443   \nURA   -2.896008    0.118665   0.242260         -0.845028      0.129471   \nCORN  -3.311914   -5.996776   5.337755         -1.323645     -0.209766   \nGRU   -1.231861   -9.025438   0.526356         -3.243648     -0.140351   \nPALL   0.001044  -12.901944  -0.372045         -4.424315      0.148695   \nWEAT -10.476697  -21.553253  -1.557553        -11.195834     -0.196874   \nJO     1.356086  -30.822620 -25.543730        -18.336755      0.163345   \n\n      3-Months Corr  6-Months Corr  1-Month Vol  \nUYM        0.529664       0.466984     0.028879  \nSLV        0.510322       0.373555     0.021333  \nGDX        0.532612       0.357458     0.023833  \nXME        0.515975       0.425008     0.022003  \nPLTM       0.531147       0.357732     0.017176  \nPPLT       0.531669       0.356653     0.017467  \nCGW        0.511871       0.403050     0.013276  \nCUT        0.522006       0.358315     0.011737  \nWOOD       0.522557       0.339666     0.012089  \nPHO        0.518167       0.387172     0.013825  \nFIW        0.512205       0.376951     0.014130  \nNIB        0.502892       0.362595     0.014161  \nDBP        0.522442       0.394023     0.011585  \nCHIM       0.429526       0.115345     0.012699  \nGLTR       0.502232       0.428258     0.014259  \nGLD        0.519282       0.360301     0.009676  \nSOYB       0.380862       0.293999     0.009210  \nCANE       0.448527       0.201349     0.010221  \nREMX       0.440525       0.345893     0.027877  \nCOW        0.279712       0.203433     0.008579  \nURA        0.272632       0.181739     0.023657  \nCORN      -0.463159      -0.035187     0.006489  \nGRU       -0.449486      -0.088825     0.008910  \nPALL      -0.276779      -0.039781     0.028767  \nWEAT      -0.465224      -0.227815     0.014614  \nJO        -0.481909      -0.202235     0.022494  ",
      "text/html": "<div>\n<style scoped>\n    .dataframe tbody tr th:only-of-type {\n        vertical-align: middle;\n    }\n\n    .dataframe tbody tr th {\n        vertical-align: top;\n    }\n\n    .dataframe thead th {\n        text-align: right;\n    }\n</style>\n<table border=\"1\" class=\"dataframe\">\n  <thead>\n    <tr style=\"text-align: right;\">\n      <th></th>\n      <th>1-Month</th>\n      <th>3-Months</th>\n      <th>6-Months</th>\n      <th>Avg Alpha-Factor</th>\n      <th>1-Month Corr</th>\n      <th>3-Months Corr</th>\n      <th>6-Months Corr</th>\n      <th>1-Month Vol</th>\n    </tr>\n  </thead>\n  <tbody>\n    <tr>\n      <th>UYM</th>\n      <td>0.333237</td>\n      <td>249.365341</td>\n      <td>3.439886</td>\n      <td>84.379488</td>\n      <td>0.372827</td>\n      <td>0.529664</td>\n      <td>0.466984</td>\n      <td>0.028879</td>\n    </tr>\n    <tr>\n      <th>SLV</th>\n      <td>86.918243</td>\n      <td>50.576832</td>\n      <td>4.991841</td>\n      <td>47.495639</td>\n      <td>0.341084</td>\n      <td>0.510322</td>\n      <td>0.373555</td>\n      <td>0.021333</td>\n    </tr>\n    <tr>\n      <th>GDX</th>\n      <td>20.425402</td>\n      <td>85.910804</td>\n      <td>0.001426</td>\n      <td>35.445877</td>\n      <td>0.428721</td>\n      <td>0.532612</td>\n      <td>0.357458</td>\n      <td>0.023833</td>\n    </tr>\n    <tr>\n      <th>XME</th>\n      <td>0.466031</td>\n      <td>66.368142</td>\n      <td>10.983776</td>\n      <td>25.939316</td>\n      <td>0.353447</td>\n      <td>0.515975</td>\n      <td>0.425008</td>\n      <td>0.022003</td>\n    </tr>\n    <tr>\n      <th>PLTM</th>\n      <td>4.755738</td>\n      <td>47.138369</td>\n      <td>15.373490</td>\n      <td>22.422532</td>\n      <td>0.441295</td>\n      <td>0.531147</td>\n      <td>0.357732</td>\n      <td>0.017176</td>\n    </tr>\n    <tr>\n      <th>PPLT</th>\n      <td>4.356015</td>\n      <td>46.529299</td>\n      <td>15.282230</td>\n      <td>22.055848</td>\n      <td>0.440228</td>\n      <td>0.531669</td>\n      <td>0.356653</td>\n      <td>0.017467</td>\n    </tr>\n    <tr>\n      <th>CGW</th>\n      <td>1.152470</td>\n      <td>63.128903</td>\n      <td>0.127545</td>\n      <td>21.469639</td>\n      <td>0.404506</td>\n      <td>0.511871</td>\n      <td>0.403050</td>\n      <td>0.013276</td>\n    </tr>\n    <tr>\n      <th>CUT</th>\n      <td>4.265289</td>\n      <td>51.659052</td>\n      <td>-0.452384</td>\n      <td>18.490652</td>\n      <td>0.476336</td>\n      <td>0.522006</td>\n      <td>0.358315</td>\n      <td>0.011737</td>\n    </tr>\n    <tr>\n      <th>WOOD</th>\n      <td>0.253095</td>\n      <td>48.306254</td>\n      <td>-0.746587</td>\n      <td>15.937587</td>\n      <td>0.403617</td>\n      <td>0.522557</td>\n      <td>0.339666</td>\n      <td>0.012089</td>\n    </tr>\n    <tr>\n      <th>PHO</th>\n      <td>1.421883</td>\n      <td>43.234501</td>\n      <td>2.352112</td>\n      <td>15.669499</td>\n      <td>0.460393</td>\n      <td>0.518167</td>\n      <td>0.387172</td>\n      <td>0.013825</td>\n    </tr>\n    <tr>\n      <th>FIW</th>\n      <td>0.150143</td>\n      <td>39.591603</td>\n      <td>3.691987</td>\n      <td>14.477911</td>\n      <td>0.410793</td>\n      <td>0.512205</td>\n      <td>0.376951</td>\n      <td>0.014130</td>\n    </tr>\n    <tr>\n      <th>NIB</th>\n      <td>8.014758</td>\n      <td>27.659456</td>\n      <td>1.791195</td>\n      <td>12.488470</td>\n      <td>0.333027</td>\n      <td>0.502892</td>\n      <td>0.362595</td>\n      <td>0.014161</td>\n    </tr>\n    <tr>\n      <th>DBP</th>\n      <td>13.756009</td>\n      <td>19.945232</td>\n      <td>-0.011167</td>\n      <td>11.230025</td>\n      <td>0.371249</td>\n      <td>0.522442</td>\n      <td>0.394023</td>\n      <td>0.011585</td>\n    </tr>\n    <tr>\n      <th>CHIM</th>\n      <td>33.643501</td>\n      <td>17.724361</td>\n      <td>-19.791351</td>\n      <td>10.525504</td>\n      <td>0.240816</td>\n      <td>0.429526</td>\n      <td>0.115345</td>\n      <td>0.012699</td>\n    </tr>\n    <tr>\n      <th>GLTR</th>\n      <td>14.868381</td>\n      <td>11.804163</td>\n      <td>0.009293</td>\n      <td>8.893946</td>\n      <td>0.378840</td>\n      <td>0.502232</td>\n      <td>0.428258</td>\n      <td>0.014259</td>\n    </tr>\n    <tr>\n      <th>GLD</th>\n      <td>6.731156</td>\n      <td>14.732172</td>\n      <td>-0.419629</td>\n      <td>7.014567</td>\n      <td>0.377192</td>\n      <td>0.519282</td>\n      <td>0.360301</td>\n      <td>0.009676</td>\n    </tr>\n    <tr>\n      <th>SOYB</th>\n      <td>5.237012</td>\n      <td>6.993672</td>\n      <td>3.423657</td>\n      <td>5.218114</td>\n      <td>0.100236</td>\n      <td>0.380862</td>\n      <td>0.293999</td>\n      <td>0.009210</td>\n    </tr>\n    <tr>\n      <th>CANE</th>\n      <td>-0.000360</td>\n      <td>12.226628</td>\n      <td>0.207190</td>\n      <td>4.144486</td>\n      <td>0.045435</td>\n      <td>0.448527</td>\n      <td>0.201349</td>\n      <td>0.010221</td>\n    </tr>\n    <tr>\n      <th>REMX</th>\n      <td>-0.000254</td>\n      <td>9.501265</td>\n      <td>0.025070</td>\n      <td>3.175361</td>\n      <td>0.254755</td>\n      <td>0.440525</td>\n      <td>0.345893</td>\n      <td>0.027877</td>\n    </tr>\n    <tr>\n      <th>COW</th>\n      <td>-1.522518</td>\n      <td>6.776979</td>\n      <td>4.217545</td>\n      <td>3.157335</td>\n      <td>-0.032443</td>\n      <td>0.279712</td>\n      <td>0.203433</td>\n      <td>0.008579</td>\n    </tr>\n    <tr>\n      <th>URA</th>\n      <td>-2.896008</td>\n      <td>0.118665</td>\n      <td>0.242260</td>\n      <td>-0.845028</td>\n      <td>0.129471</td>\n      <td>0.272632</td>\n      <td>0.181739</td>\n      <td>0.023657</td>\n    </tr>\n    <tr>\n      <th>CORN</th>\n      <td>-3.311914</td>\n      <td>-5.996776</td>\n      <td>5.337755</td>\n      <td>-1.323645</td>\n      <td>-0.209766</td>\n      <td>-0.463159</td>\n      <td>-0.035187</td>\n      <td>0.006489</td>\n    </tr>\n    <tr>\n      <th>GRU</th>\n      <td>-1.231861</td>\n      <td>-9.025438</td>\n      <td>0.526356</td>\n      <td>-3.243648</td>\n      <td>-0.140351</td>\n      <td>-0.449486</td>\n      <td>-0.088825</td>\n      <td>0.008910</td>\n    </tr>\n    <tr>\n      <th>PALL</th>\n      <td>0.001044</td>\n      <td>-12.901944</td>\n      <td>-0.372045</td>\n      <td>-4.424315</td>\n      <td>0.148695</td>\n      <td>-0.276779</td>\n      <td>-0.039781</td>\n      <td>0.028767</td>\n    </tr>\n    <tr>\n      <th>WEAT</th>\n      <td>-10.476697</td>\n      <td>-21.553253</td>\n      <td>-1.557553</td>\n      <td>-11.195834</td>\n      <td>-0.196874</td>\n      <td>-0.465224</td>\n      <td>-0.227815</td>\n      <td>0.014614</td>\n    </tr>\n    <tr>\n      <th>JO</th>\n      <td>1.356086</td>\n      <td>-30.822620</td>\n      <td>-25.543730</td>\n      <td>-18.336755</td>\n      <td>0.163345</td>\n      <td>-0.481909</td>\n      <td>-0.202235</td>\n      <td>0.022494</td>\n    </tr>\n  </tbody>\n</table>\n</div>"
     },
     "execution_count": 4,
     "metadata": {},
     "output_type": "execute_result"
    }
   ],
   "source": [
    "r2_table"
   ],
   "metadata": {
    "collapsed": false
   }
  },
  {
   "cell_type": "code",
   "execution_count": null,
   "outputs": [],
   "source": [],
   "metadata": {
    "collapsed": false
   }
  }
 ],
 "metadata": {
  "kernelspec": {
   "display_name": "Python 3",
   "language": "python",
   "name": "python3"
  },
  "language_info": {
   "codemirror_mode": {
    "name": "ipython",
    "version": 2
   },
   "file_extension": ".py",
   "mimetype": "text/x-python",
   "name": "python",
   "nbconvert_exporter": "python",
   "pygments_lexer": "ipython2",
   "version": "2.7.6"
  }
 },
 "nbformat": 4,
 "nbformat_minor": 0
}
